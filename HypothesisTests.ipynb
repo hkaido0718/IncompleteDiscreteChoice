{
  "nbformat": 4,
  "nbformat_minor": 0,
  "metadata": {
    "colab": {
      "provenance": [],
      "authorship_tag": "ABX9TyMKaMfaF6N+vOvveoQBVJhx",
      "include_colab_link": true
    },
    "kernelspec": {
      "name": "python3",
      "display_name": "Python 3"
    },
    "language_info": {
      "name": "python"
    }
  },
  "cells": [
    {
      "cell_type": "markdown",
      "metadata": {
        "id": "view-in-github",
        "colab_type": "text"
      },
      "source": [
        "<a href=\"https://colab.research.google.com/github/hkaido0718/IncompleteDiscreteChoice/blob/main/HypothesisTests.ipynb\" target=\"_parent\"><img src=\"https://colab.research.google.com/assets/colab-badge.svg\" alt=\"Open In Colab\"/></a>"
      ]
    },
    {
      "cell_type": "markdown",
      "source": [
        "# Hypothesis testing\n",
        "\n",
        "The goal of this note is to test hypotheses\n",
        "\\begin{align}\n",
        "H_0:\\theta\\in\\Theta_0 ~~\\text{v.s.}~~H_1:\\theta\\in\\Theta_1.\n",
        "\\end{align}\n",
        "\n",
        "Null hypothesis can be described by linear or nolinear constraints.\n",
        "\n",
        "- Some of the coefficients are 0 (e.g. $\\Theta_0=\\{\\theta:\\theta_j=0,j\\in\\mathcal J_0\\}$)\n",
        "- Shape restrictions: (e.g. a function of interest is $f(x;\\theta)=\\theta_1+\\theta_2 x+\\theta_3x^2$, and $\\Theta_0=\\{\\theta:\\theta_3\\le 0\\}$)\n",
        "- The value of a counterfactual outcome (e.g. $\\Theta_0=\\{\\theta:g(\\theta)=c\\}$)\n",
        "\n",
        "Later, we will discuss constructing confidence intervals by inverting the test. The `idc` library's default command `idc.calculate_LR` uses scipy's optimization library to implement the test. However, you can also use your favoriate library by calling the functions in `idc.calculate_LR`."
      ],
      "metadata": {
        "id": "mWllyG9RmWmR"
      }
    },
    {
      "cell_type": "markdown",
      "source": [
        "# Representing your hypothesis as a constraint object.\n",
        "\n",
        "Consider testing\n",
        "$$H_0:A\\theta=b,~~H_1:A\\theta\\ne b.$$\n",
        "\n",
        "For example, $\\theta=(\\theta_1,\\dots,\\theta_5)$, and we want to test $H_0:\\theta_1=0,\\theta_2=0$. We can represent this linear constraint by letting\n",
        "\n",
        "$$A=\\begin{bmatrix}\n",
        "1&0&0&0&0\\\\\n",
        "0&1&0&0&0\n",
        "\\end{bmatrix}\n",
        ",~~b=\\begin{bmatrix}\n",
        "0\\\\0 \\end{bmatrix}.$$\n",
        "We can use `LinearConstaint` object in `scipy.optimization` to represent this constraint. See further details [here](https://docs.scipy.org/doc/scipy/reference/generated/scipy.optimize.LinearConstraint.html)."
      ],
      "metadata": {
        "id": "GcxaBIwbtDqB"
      }
    },
    {
      "cell_type": "code",
      "source": [
        "import numpy as np\n",
        "from scipy.optimize import differential_evolution, LinearConstraint\n",
        "\n",
        "# Define the linear constraint Aθ = b\n",
        "A = np.array([[1, 0, 0, 0, 0],\n",
        "              [0, 1, 0, 0, 0]])  # Example constraint matrix\n",
        "b = np.array([0, 0])  # Example constraint vector\n",
        "\n",
        "# Linear constraint\n",
        "linear_constraint = LinearConstraint(A, b, b)  # Aθ = b"
      ],
      "metadata": {
        "id": "JfNrrDiLthiT"
      },
      "execution_count": null,
      "outputs": []
    },
    {
      "cell_type": "markdown",
      "source": [
        "Similarly, one can also test one-sided hypotheses. For example\n",
        "$$H_0:A\\theta\\ge b,~~H_1:A\\theta< b.$$\n",
        "This constraint is represented by\n",
        "\n"
      ],
      "metadata": {
        "id": "DaZ_Nbfn9ele"
      }
    },
    {
      "cell_type": "code",
      "source": [
        "# Linear constraint\n",
        "linear_onesided_constraint = LinearConstraint(A, b, np.inf)  # Aθ >= b"
      ],
      "metadata": {
        "id": "-bDhqOR7991U"
      },
      "execution_count": null,
      "outputs": []
    },
    {
      "cell_type": "markdown",
      "source": [
        "Next, consider testing\n",
        "$$H_0: \\varphi(\\theta)=c,~~H_1:\\varphi(\\theta)\\ne c.$$\n",
        "This type of test is useful for constructing confidence intervals for a functio $\\varphi(\\theta)$ of $\\theta$. For example, in the entry game, consider the counterfactual entry probability of Player 1 (with characteristics $x_1$) when the Player  is in the market ($y_2=1$). For simplicity, suppose $U_1\\sim N(0,1)$. Then,\n",
        "\n",
        "$$\\varphi(\\theta)=F_\\theta(\\{u:x_{1}{}{'}\\beta_1+\\Delta_1\\ge-U_1 \\})=\\Phi(x_{1}{}{'}\\beta_1+\\Delta_1).$$\n",
        "\n",
        "The corresponding `NonlinearConstraint` object can be defined as follows. See details [here](https://docs.scipy.org/doc/scipy/reference/generated/scipy.optimize.NonlinearConstraint.html)."
      ],
      "metadata": {
        "id": "N2337TEh-VcR"
      }
    },
    {
      "cell_type": "code",
      "source": [
        "from scipy.optimize import NonlinearConstraint\n",
        "from scipy.stats import norm\n",
        "\n",
        "# Define varphi\n",
        "def constraint_function(theta):\n",
        "    beta1 = theta[0]  # Extract beta1 from theta\n",
        "    Delta1 = theta[2] # Extract Delta1 from theta\n",
        "    x1 = 1 # Set x1 to a value of interest\n",
        "    return norm.cdf(np.dot(x1, beta1) + Delta1)\n",
        "\n",
        "# Define the target value for the constraint\n",
        "c = 0.5  # Example target value\n",
        "\n",
        "# Create the NonlinearConstraint object\n",
        "nonlinear_constraint = NonlinearConstraint(constraint_function, c, c)  # varphi(theta) = c\n",
        "\n"
      ],
      "metadata": {
        "id": "EtZS2cHTAuHX"
      },
      "execution_count": null,
      "outputs": []
    },
    {
      "cell_type": "markdown",
      "source": [
        "# Split LR-test\n",
        "\n",
        "To proceed, we use the test by Kaido & Zhang (2024), which takes the following steps.\n",
        "\n",
        "1.   Split a sample into two subsamples. Let's call them $D_0$ and $D_1$.\n",
        "2.   Estimate $\\theta$ using $D_1$. Calculate a \"unrestricted likelihood\" $L_0(\\hat\\theta_1)$ using $D_0$.\n",
        "3.   Calculate the restricted likelihood $L_0(\\hat{\\theta}_0)=\\sup_{\\theta\\in\\Theta_0}L_0(\\theta)$ using $D_0$.\n",
        "4. Compute the ratio $T_n=L_0(\\hat\\theta_1)/L_0(\\hat{\\theta}_0)$.\n",
        "\n",
        "The recommended version of this test repeats Steps 1-4 while swapping the role of $D_0$ and $D_1$ and calculates $T_n^{swap}$ and aggregates the statisticss to the _Cross-fit LR statistic_ $S_n=\\frac{T_n+T_n^{swap}}{2}$. The rejection rule is simple.\n",
        "\n",
        "- Reject $H_0$ if $S_n>1/\\alpha$.\n",
        "- Do not reject $H_0$ if $S_n\\le 1/\\alpha$.\n",
        "\n",
        "This test is valid in any finite samples. Below, we outline how to do this.\n"
      ],
      "metadata": {
        "id": "CGmtTi8iv2vc"
      }
    },
    {
      "cell_type": "markdown",
      "source": [
        "# Loading the idc library and downloading data"
      ],
      "metadata": {
        "id": "zwFgqq9zDz_i"
      }
    },
    {
      "cell_type": "code",
      "source": [
        "!git clone https://github.com/hkaido0718/IncompleteDiscreteChoice.git"
      ],
      "metadata": {
        "id": "wv_hdjoUvzAk",
        "colab": {
          "base_uri": "https://localhost:8080/"
        },
        "outputId": "98ac677c-7134-42b5-b42a-bdf11b05788a"
      },
      "execution_count": null,
      "outputs": [
        {
          "output_type": "stream",
          "name": "stdout",
          "text": [
            "Cloning into 'IncompleteDiscreteChoice'...\n",
            "remote: Enumerating objects: 167, done.\u001b[K\n",
            "remote: Counting objects: 100% (23/23), done.\u001b[K\n",
            "remote: Compressing objects: 100% (9/9), done.\u001b[K\n",
            "remote: Total 167 (delta 18), reused 19 (delta 14), pack-reused 144\u001b[K\n",
            "Receiving objects: 100% (167/167), 377.41 KiB | 2.02 MiB/s, done.\n",
            "Resolving deltas: 100% (86/86), done.\n"
          ]
        }
      ]
    },
    {
      "cell_type": "code",
      "source": [
        "import IncompleteDiscreteChoice.idclib as idc\n",
        "import IncompleteDiscreteChoice.examples as ex\n",
        "import numpy as np\n",
        "import gdown\n",
        "\n",
        "# Download entrygame sample data (same data as above)\n",
        "url = \"https://drive.google.com/uc?id=1cRhMJ8bRhdzy9_agmQ_LkqzlsKRKcthX\"\n",
        "output = \"data_entrygame.npz\"\n",
        "gdown.download(url, output, quiet=True)\n",
        "Data = np.load(output, allow_pickle=True)\n",
        "Y_full = Data['Y']\n",
        "X_full = Data['X']\n",
        "data = [Y_full, X_full]\n",
        "\n",
        "# Define the model\n",
        "Y_nodes = [(0,0), (0,1), (1,0), (1,1)]\n",
        "U_nodes = ['a', 'b', 'c', 'd', 'e']\n",
        "edges = [\n",
        "    ('a', (0,0)),\n",
        "    ('b', (0,1)),\n",
        "    ('c', (1,0)),\n",
        "    ('d', (1,1)),\n",
        "    ('e', (0,1)),\n",
        "    ('e', (1,0))\n",
        "]\n",
        "gmodel = idc.BipartiteGraph(Y_nodes, U_nodes, edges)\n"
      ],
      "metadata": {
        "id": "dRmt0knk1DWV"
      },
      "execution_count": null,
      "outputs": []
    },
    {
      "cell_type": "markdown",
      "source": [
        "Now, let's conduct a test. Below, we set the parameter space and call `idc.calculateLR` function, which computes the LR statistic above for a given hypothesis. Let's test the linear constraint above"
      ],
      "metadata": {
        "id": "7WYSHHa3DzvP"
      }
    },
    {
      "cell_type": "code",
      "source": [
        "# Define parameter space\n",
        "LB = [-2, -2, -2, -2, 0] # parameter space lower bound\n",
        "UB = [2, 2, 0, 0, 0.85]  # parameter space upper bound\n",
        "\n",
        "# Calculate LR\n",
        "S = idc.calculate_LR(data, gmodel, ex.calculate_Ftheta_entrygame, LB, UB, linear_constraint, seed=123, split=\"crossfit\")\n",
        "print(S)"
      ],
      "metadata": {
        "colab": {
          "base_uri": "https://localhost:8080/"
        },
        "id": "U_vXmpZdECGF",
        "outputId": "4abc3267-7ff7-4922-c63a-d0b2891da0a3"
      },
      "execution_count": null,
      "outputs": [
        {
          "output_type": "stream",
          "name": "stdout",
          "text": [
            "1.3821175026037977e+34\n"
          ]
        }
      ]
    },
    {
      "cell_type": "markdown",
      "source": [
        "# Testing a nonlinear hypothesis\n",
        "\n",
        "Testing a nonlinear hypothesis can be done similarly. You simply should just pass the nonlinear constraint as an argument to the same function.\n"
      ],
      "metadata": {
        "id": "ukDXDz4DDvwg"
      }
    },
    {
      "cell_type": "code",
      "source": [
        "# Calculate LR\n",
        "S = idc.calculate_LR(data, gmodel, ex.calculate_Ftheta_entrygame, LB, UB, nonlinear_constraint, seed=123, split=\"crossfit\")\n",
        "print(S)"
      ],
      "metadata": {
        "colab": {
          "base_uri": "https://localhost:8080/"
        },
        "id": "RUeGfR1PHuxm",
        "outputId": "ab37d793-d70e-4d39-8c03-e2e5887a9212"
      },
      "execution_count": null,
      "outputs": [
        {
          "output_type": "stream",
          "name": "stdout",
          "text": [
            "Initial Estimator: [ 0.85436387  0.87369334 -0.05040084 -0.58678088  0.        ]\n",
            "Minimum Qhat: 0.0004313605269638865\n",
            "Unrestricted log-likelihood: -651.0422845679597\n"
          ]
        },
        {
          "output_type": "stream",
          "name": "stderr",
          "text": [
            "/usr/local/lib/python3.10/dist-packages/scipy/optimize/_hessian_update_strategy.py:182: UserWarning: delta_grad == 0.0. Check if the approximated function is linear. If the function is linear better results can be obtained by defining the Hessian as zero instead of using quasi-Newton approximations.\n",
            "  warn('delta_grad == 0.0. Check if the approximated '\n"
          ]
        },
        {
          "output_type": "stream",
          "name": "stdout",
          "text": [
            "RMLE: [ 0.5799695   0.69484491 -0.5799695  -0.66348565  0.33725323]\n",
            "Restricted log-likelihood: -656.7192808825874\n",
            "T: 292.0708221962571\n",
            "Initial Estimator^swap: [ 0.69027964  0.57179419 -0.02651402 -0.56898167  0.        ]\n",
            "Minimum Qhat: 0.0003212533736311326\n",
            "Unrestricted log-likelihood: -609.2532240138153\n",
            "RMLE^swap: [ 0.58958789  0.95725797 -0.58958789 -0.65248417  0.12141358]\n",
            "Restricted log-likelihood: -623.5099728465998\n",
            "T^swap: 1554631.0876567727\n",
            "T^crossfit: 777461.5792394845\n",
            "777461.5792394845\n"
          ]
        }
      ]
    }
  ]
}