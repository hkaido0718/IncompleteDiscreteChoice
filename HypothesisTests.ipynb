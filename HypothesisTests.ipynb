{
  "cells": [
    {
      "cell_type": "markdown",
      "metadata": {
        "id": "view-in-github",
        "colab_type": "text"
      },
      "source": [
        "<a href=\"https://colab.research.google.com/github/tianzhanyuan/IncompleteDiscreteChoice/blob/zhanyuan-patch-1/HypothesisTests.ipynb\" target=\"_parent\"><img src=\"https://colab.research.google.com/assets/colab-badge.svg\" alt=\"Open In Colab\"/></a>"
      ]
    },
    {
      "cell_type": "markdown",
      "metadata": {
        "id": "mWllyG9RmWmR"
      },
      "source": [
        "# Hypothesis testing\n",
        "\n",
        "The goal of this note is to test hypotheses\n",
        "\\begin{align}\n",
        "H_0:\\theta\\in\\Theta_0 ~~\\text{v.s.}~~H_1:\\theta\\in\\Theta_1.\n",
        "\\end{align}\n",
        "\n",
        "Null hypothesis can be described by linear or nolinear constraints.\n",
        "\n",
        "- Some of the coefficients are 0 (e.g. $\\Theta_0=\\{\\theta:\\theta_j=0,j\\in\\mathcal J_0\\}$)\n",
        "- Shape restrictions: (e.g. a function of interest is $f(x;\\theta)=\\theta_1+\\theta_2 x+\\theta_3x^2$, and $\\Theta_0=\\{\\theta:\\theta_3\\le 0\\}$)\n",
        "- The value of a counterfactual outcome (e.g. $\\Theta_0=\\{\\theta:g(\\theta)=c\\}$)\n",
        "\n",
        "Later, we will discuss constructing confidence intervals by inverting the test. The `idc` library's default command `idc.calculate_LR` uses scipy's optimization library to implement the test. However, you can also use your favoriate library by calling the functions in `idc.calculate_LR`."
      ]
    },
    {
      "cell_type": "markdown",
      "metadata": {
        "id": "GcxaBIwbtDqB"
      },
      "source": [
        "# Representing your hypothesis as a constraint object.\n",
        "\n",
        "Consider testing\n",
        "$$H_0:A\\theta=b,~~H_1:A\\theta\\ne b.$$\n",
        "\n",
        "For example, $\\theta=(\\theta_1,\\dots,\\theta_5)$, and we want to test $H_0:\\theta_1=0,\\theta_2=0$. We can represent this linear constraint by letting\n",
        "\n",
        "$$A=\\begin{bmatrix}\n",
        "1&0&0&0&0\\\\\n",
        "0&1&0&0&0\n",
        "\\end{bmatrix}\n",
        ",~~b=\\begin{bmatrix}\n",
        "0\\\\0 \\end{bmatrix}.$$\n",
        "We can use `LinearConstaint` object in `scipy.optimization` to represent this constraint. See further details [here](https://docs.scipy.org/doc/scipy/reference/generated/scipy.optimize.LinearConstraint.html)."
      ]
    },
    {
      "cell_type": "code",
      "execution_count": 1,
      "metadata": {
        "id": "JfNrrDiLthiT"
      },
      "outputs": [],
      "source": [
        "import numpy as np\n",
        "from scipy.optimize import differential_evolution, LinearConstraint\n",
        "\n",
        "# Define the linear constraint Aθ = b\n",
        "A = np.array([[1, 0, 0, 0, 0],\n",
        "              [0, 1, 0, 0, 0]])  # Example constraint matrix\n",
        "b = np.array([0, 0])  # Example constraint vector\n",
        "\n",
        "# Linear constraint\n",
        "linear_constraint = LinearConstraint(A, b, b)  # Aθ = b"
      ]
    },
    {
      "cell_type": "markdown",
      "metadata": {
        "id": "DaZ_Nbfn9ele"
      },
      "source": [
        "Similarly, one can also test one-sided hypotheses. For example\n",
        "$$H_0:A\\theta\\ge b,~~H_1:A\\theta< b.$$\n",
        "This constraint is represented by\n",
        "\n"
      ]
    },
    {
      "cell_type": "code",
      "execution_count": 2,
      "metadata": {
        "id": "-bDhqOR7991U"
      },
      "outputs": [],
      "source": [
        "# Linear constraint\n",
        "linear_onesided_constraint = LinearConstraint(A, b, np.inf)  # Aθ >= b"
      ]
    },
    {
      "cell_type": "markdown",
      "metadata": {
        "id": "N2337TEh-VcR"
      },
      "source": [
        "Next, consider testing\n",
        "$$H_0: \\varphi(\\theta)=c,~~H_1:\\varphi(\\theta)\\ne c.$$\n",
        "This type of test is useful for constructing confidence intervals for a functio $\\varphi(\\theta)$ of $\\theta$. For example, in the entry game, consider the counterfactual entry probability of Player 1 (with characteristics $x_1$) when the Player  is in the market ($y_2=1$). For simplicity, suppose $U_1\\sim N(0,1)$. Then,\n",
        "\n",
        "$$\\varphi(\\theta)=F_\\theta(\\{u:x_{1}{}{'}\\beta_1+\\Delta_1\\ge-U_1 \\})=\\Phi(x_{1}{}{'}\\beta_1+\\Delta_1).$$\n",
        "\n",
        "The corresponding `NonlinearConstraint` object can be defined as follows. See details [here](https://docs.scipy.org/doc/scipy/reference/generated/scipy.optimize.NonlinearConstraint.html)."
      ]
    },
    {
      "cell_type": "code",
      "execution_count": 3,
      "metadata": {
        "id": "EtZS2cHTAuHX"
      },
      "outputs": [],
      "source": [
        "from scipy.optimize import NonlinearConstraint\n",
        "from scipy.stats import norm\n",
        "\n",
        "# Define varphi\n",
        "def constraint_function(theta):\n",
        "    beta1 = theta[0]  # Extract beta1 from theta\n",
        "    Delta1 = theta[2] # Extract Delta1 from theta\n",
        "    x1 = 1 # Set x1 to a value of interest\n",
        "    return norm.cdf(np.dot(x1, beta1) + Delta1)\n",
        "\n",
        "# Define the target value for the constraint\n",
        "c = 0.5  # Example target value\n",
        "\n",
        "# Create the NonlinearConstraint object\n",
        "nonlinear_constraint = NonlinearConstraint(constraint_function, c, c)  # varphi(theta) = c"
      ]
    },
    {
      "cell_type": "markdown",
      "metadata": {
        "id": "CGmtTi8iv2vc"
      },
      "source": [
        "# Split LR-test\n",
        "\n",
        "To proceed, we use the test by Kaido & Zhang (2024), which takes the following steps.\n",
        "\n",
        "1.   Split a sample into two subsamples. Let's call them $D_0$ and $D_1$.\n",
        "2.   Estimate $\\theta$ using $D_1$. Calculate a \"unrestricted likelihood\" $L_0(\\hat\\theta_1)$ using $D_0$.\n",
        "3.   Calculate the restricted likelihood $L_0(\\hat{\\theta}_0)=\\sup_{\\theta\\in\\Theta_0}L_0(\\theta)$ using $D_0$.\n",
        "4. Compute the ratio $T_n=L_0(\\hat\\theta_1)/L_0(\\hat{\\theta}_0)$.\n",
        "\n",
        "The recommended version of this test repeats Steps 1-4 while swapping the role of $D_0$ and $D_1$ and calculates $T_n^{swap}$ and aggregates the statisticss to the _Cross-fit LR statistic_ $S_n=\\frac{T_n+T_n^{swap}}{2}$. The rejection rule is simple.\n",
        "\n",
        "- Reject $H_0$ if $S_n>1/\\alpha$.\n",
        "- Do not reject $H_0$ if $S_n\\le 1/\\alpha$.\n",
        "\n",
        "This test is valid in any finite samples. Below, we outline how to do this.\n"
      ]
    },
    {
      "cell_type": "markdown",
      "metadata": {
        "id": "zwFgqq9zDz_i"
      },
      "source": [
        "# Loading idc library and downloading data"
      ]
    },
    {
      "cell_type": "code",
      "execution_count": 4,
      "metadata": {
        "colab": {
          "base_uri": "https://localhost:8080/"
        },
        "id": "wv_hdjoUvzAk",
        "outputId": "43d86eb5-534b-451f-abd9-db6dfdce66ea"
      },
      "outputs": [
        {
          "output_type": "stream",
          "name": "stdout",
          "text": [
            "Cloning into 'IncompleteDiscreteChoice'...\n",
            "remote: Enumerating objects: 406, done.\u001b[K\n",
            "remote: Counting objects: 100% (142/142), done.\u001b[K\n",
            "remote: Compressing objects: 100% (106/106), done.\u001b[K\n",
            "remote: Total 406 (delta 80), reused 57 (delta 36), pack-reused 264 (from 1)\u001b[K\n",
            "Receiving objects: 100% (406/406), 1.31 MiB | 6.89 MiB/s, done.\n",
            "Resolving deltas: 100% (223/223), done.\n",
            "Collecting scikit-optimize\n",
            "  Downloading scikit_optimize-0.10.2-py2.py3-none-any.whl.metadata (9.7 kB)\n",
            "Requirement already satisfied: joblib>=0.11 in /usr/local/lib/python3.12/dist-packages (from scikit-optimize) (1.5.2)\n",
            "Collecting pyaml>=16.9 (from scikit-optimize)\n",
            "  Downloading pyaml-25.7.0-py3-none-any.whl.metadata (12 kB)\n",
            "Requirement already satisfied: numpy>=1.20.3 in /usr/local/lib/python3.12/dist-packages (from scikit-optimize) (2.0.2)\n",
            "Requirement already satisfied: scipy>=1.1.0 in /usr/local/lib/python3.12/dist-packages (from scikit-optimize) (1.16.2)\n",
            "Requirement already satisfied: scikit-learn>=1.0.0 in /usr/local/lib/python3.12/dist-packages (from scikit-optimize) (1.6.1)\n",
            "Requirement already satisfied: packaging>=21.3 in /usr/local/lib/python3.12/dist-packages (from scikit-optimize) (25.0)\n",
            "Requirement already satisfied: PyYAML in /usr/local/lib/python3.12/dist-packages (from pyaml>=16.9->scikit-optimize) (6.0.2)\n",
            "Requirement already satisfied: threadpoolctl>=3.1.0 in /usr/local/lib/python3.12/dist-packages (from scikit-learn>=1.0.0->scikit-optimize) (3.6.0)\n",
            "Downloading scikit_optimize-0.10.2-py2.py3-none-any.whl (107 kB)\n",
            "\u001b[2K   \u001b[90m━━━━━━━━━━━━━━━━━━━━━━━━━━━━━━━━━━━━━━━━\u001b[0m \u001b[32m107.8/107.8 kB\u001b[0m \u001b[31m2.6 MB/s\u001b[0m eta \u001b[36m0:00:00\u001b[0m\n",
            "\u001b[?25hDownloading pyaml-25.7.0-py3-none-any.whl (26 kB)\n",
            "Installing collected packages: pyaml, scikit-optimize\n",
            "Successfully installed pyaml-25.7.0 scikit-optimize-0.10.2\n"
          ]
        }
      ],
      "source": [
        "!rm -rf IncompleteDiscreteChoice\n",
        "!git clone --branch zhanyuan-patch-1 --single-branch https://github.com/tianzhanyuan/IncompleteDiscreteChoice.git\n",
        "!pip install scikit-optimize"
      ]
    },
    {
      "cell_type": "markdown",
      "metadata": {
        "id": "Op0PKrD4zGWe"
      },
      "source": [
        "Let's download simulated data of entry games. The data involve binary player-specific covariates. The true parameter value is $\\beta_1 = 0.75, \\beta_2 = 0.25,\n",
        "\\delta_1 = -0.5,\n",
        "\\delta_2 = -0.5.$\n",
        "This DGP satisfies the linear inequality hypothesis (but not the other two)."
      ]
    },
    {
      "cell_type": "code",
      "execution_count": 5,
      "metadata": {
        "id": "dRmt0knk1DWV"
      },
      "outputs": [],
      "source": [
        "import IncompleteDiscreteChoice.idclib_undi as idc\n",
        "import IncompleteDiscreteChoice.examples as ex\n",
        "import numpy as np\n",
        "import gdown\n",
        "\n",
        "# Download entrygame sample data (same data as above)\n",
        "url = \"https://drive.google.com/uc?id=1cRhMJ8bRhdzy9_agmQ_LkqzlsKRKcthX\"\n",
        "output = \"data_entrygame.npz\"\n",
        "gdown.download(url, output, quiet=True)\n",
        "Data = np.load(output, allow_pickle=True)\n",
        "Y_full = Data['Y']\n",
        "X_full = Data['X']\n",
        "data = [Y_full, X_full]\n",
        "\n",
        "# Define the model\n",
        "Y_nodes = [(0,0), (0,1), (1,0), (1,1)]\n",
        "U_nodes = ['a', 'b', 'c', 'd', 'e']\n",
        "edges = [\n",
        "    ('a', (0,0)),\n",
        "    ('b', (0,1)),\n",
        "    ('c', (1,0)),\n",
        "    ('d', (1,1)),\n",
        "    ('e', (0,1)),\n",
        "    ('e', (1,0))\n",
        "]\n",
        "gmodel = idc.BipartiteGraph(Y_nodes, U_nodes, edges)\n"
      ]
    },
    {
      "cell_type": "markdown",
      "metadata": {
        "id": "7WYSHHa3DzvP"
      },
      "source": [
        "Now, let's conduct a test. Below, we set the parameter space and call `idc.calculateLR` function, which computes the LR statistic above for a given hypothesis. To conduct the test, we should pass the following objects to the function.\n",
        "- `data` (list): List containing Y and X arrays\n",
        "- `gmodel` BipartiteGraph): Model (stored as a graph)\n",
        "- `calculate_Ftheta` (function): Function to calculate $F_\\theta$\n",
        "- `LB` (list): Lower bounds for θ\n",
        "- `UB` (list): Upper bounds for θ\n",
        "- `linear_constraint` (LinearConstraint, optional): Linear constraint\n",
        "- `nonlinear_constraint` (NonlinearConstraint, optional): Nonlinear constraint\n",
        "- `seed` (int, optional): Seed for the random number generator (default is 123)\n",
        "- `split` (str, optional): If \"swap\", swap the roles of data0 and data1; if \"crossfit\", calculate $T$ and $T^{swap}$ and return their average.\n",
        "\n"
      ]
    },
    {
      "cell_type": "markdown",
      "source": [
        "# Testing linear hypotheses.\n",
        "\n",
        "Let's apply this to the linear (equality) hypothesis."
      ],
      "metadata": {
        "id": "CpR33lv6iBEx"
      }
    },
    {
      "cell_type": "code",
      "execution_count": 6,
      "metadata": {
        "colab": {
          "base_uri": "https://localhost:8080/",
          "height": 330
        },
        "id": "U_vXmpZdECGF",
        "outputId": "b92723ea-768a-4bff-f1f6-79016a45c4cf",
        "collapsed": true
      },
      "outputs": [
        {
          "output_type": "error",
          "ename": "UnboundLocalError",
          "evalue": "cannot access local variable 'result' where it is not associated with a value",
          "traceback": [
            "\u001b[0;31m---------------------------------------------------------------------------\u001b[0m",
            "\u001b[0;31mUnboundLocalError\u001b[0m                         Traceback (most recent call last)",
            "\u001b[0;32m/tmp/ipython-input-3259879606.py\u001b[0m in \u001b[0;36m<cell line: 0>\u001b[0;34m()\u001b[0m\n\u001b[1;32m      4\u001b[0m \u001b[0;34m\u001b[0m\u001b[0m\n\u001b[1;32m      5\u001b[0m \u001b[0;31m# Calculate LR\u001b[0m\u001b[0;34m\u001b[0m\u001b[0;34m\u001b[0m\u001b[0m\n\u001b[0;32m----> 6\u001b[0;31m \u001b[0mS_eq\u001b[0m \u001b[0;34m=\u001b[0m \u001b[0midc\u001b[0m\u001b[0;34m.\u001b[0m\u001b[0mcalculate_LR\u001b[0m\u001b[0;34m(\u001b[0m\u001b[0mdata\u001b[0m\u001b[0;34m,\u001b[0m \u001b[0mgmodel\u001b[0m\u001b[0;34m,\u001b[0m \u001b[0mex\u001b[0m\u001b[0;34m.\u001b[0m\u001b[0mcalculate_Ftheta_entrygame\u001b[0m\u001b[0;34m,\u001b[0m \u001b[0mLB\u001b[0m\u001b[0;34m,\u001b[0m \u001b[0mUB\u001b[0m\u001b[0;34m,\u001b[0m \u001b[0mlinear_constraint\u001b[0m\u001b[0;34m,\u001b[0m \u001b[0mseed\u001b[0m\u001b[0;34m=\u001b[0m\u001b[0;36m123\u001b[0m\u001b[0;34m,\u001b[0m \u001b[0msplit\u001b[0m\u001b[0;34m=\u001b[0m\u001b[0;34m\"crossfit\"\u001b[0m\u001b[0;34m)\u001b[0m\u001b[0;34m\u001b[0m\u001b[0;34m\u001b[0m\u001b[0m\n\u001b[0m",
            "\u001b[0;32m/content/IncompleteDiscreteChoice/idclib_undi.py\u001b[0m in \u001b[0;36mcalculate_LR\u001b[0;34m(data, gmodel, calculate_Ftheta, LB, UB, method_Qhat, method_L0, linear_constraint, nonlinear_constraint, seed, split, max_retries, calculate_p0_func, thetahat1, qtheta_function, tol)\u001b[0m\n\u001b[1;32m    687\u001b[0m \u001b[0;34m\u001b[0m\u001b[0m\n\u001b[1;32m    688\u001b[0m     \u001b[0;32melif\u001b[0m \u001b[0msplit\u001b[0m \u001b[0;34m==\u001b[0m \u001b[0;34m\"crossfit\"\u001b[0m\u001b[0;34m:\u001b[0m\u001b[0;34m\u001b[0m\u001b[0;34m\u001b[0m\u001b[0m\n\u001b[0;32m--> 689\u001b[0;31m         \u001b[0mT\u001b[0m \u001b[0;34m=\u001b[0m \u001b[0mcalculate_single_T\u001b[0m\u001b[0;34m(\u001b[0m\u001b[0mdata0\u001b[0m\u001b[0;34m,\u001b[0m \u001b[0mdata1\u001b[0m\u001b[0;34m,\u001b[0m \u001b[0;34m\"\"\u001b[0m\u001b[0;34m)\u001b[0m\u001b[0;34m\u001b[0m\u001b[0;34m\u001b[0m\u001b[0m\n\u001b[0m\u001b[1;32m    690\u001b[0m         \u001b[0mT_swap\u001b[0m \u001b[0;34m=\u001b[0m \u001b[0mcalculate_single_T\u001b[0m\u001b[0;34m(\u001b[0m\u001b[0mdata1\u001b[0m\u001b[0;34m,\u001b[0m \u001b[0mdata0\u001b[0m\u001b[0;34m,\u001b[0m \u001b[0;34m\"^swap\"\u001b[0m\u001b[0;34m)\u001b[0m\u001b[0;34m\u001b[0m\u001b[0;34m\u001b[0m\u001b[0m\n\u001b[1;32m    691\u001b[0m         \u001b[0mT_crossfit\u001b[0m \u001b[0;34m=\u001b[0m \u001b[0;34m(\u001b[0m\u001b[0mT\u001b[0m \u001b[0;34m+\u001b[0m \u001b[0mT_swap\u001b[0m\u001b[0;34m)\u001b[0m \u001b[0;34m/\u001b[0m \u001b[0;36m2\u001b[0m\u001b[0;34m\u001b[0m\u001b[0;34m\u001b[0m\u001b[0m\n",
            "\u001b[0;32m/content/IncompleteDiscreteChoice/idclib_undi.py\u001b[0m in \u001b[0;36mcalculate_single_T\u001b[0;34m(data0, data1, label)\u001b[0m\n\u001b[1;32m    646\u001b[0m                 \u001b[0mresult\u001b[0m \u001b[0;34m=\u001b[0m \u001b[0mgp_minimize\u001b[0m\u001b[0;34m(\u001b[0m\u001b[0mbayesian_objective_function_Qhat\u001b[0m\u001b[0;34m,\u001b[0m \u001b[0mspace\u001b[0m\u001b[0;34m,\u001b[0m \u001b[0mrandom_state\u001b[0m\u001b[0;34m=\u001b[0m\u001b[0mseed\u001b[0m\u001b[0;34m)\u001b[0m\u001b[0;34m\u001b[0m\u001b[0;34m\u001b[0m\u001b[0m\n\u001b[1;32m    647\u001b[0m \u001b[0;34m\u001b[0m\u001b[0m\n\u001b[0;32m--> 648\u001b[0;31m             \u001b[0mthetahat1_used\u001b[0m \u001b[0;34m=\u001b[0m \u001b[0mresult\u001b[0m\u001b[0;34m.\u001b[0m\u001b[0mx\u001b[0m\u001b[0;34m\u001b[0m\u001b[0;34m\u001b[0m\u001b[0m\n\u001b[0m\u001b[1;32m    649\u001b[0m             \u001b[0mmin_Qhat\u001b[0m \u001b[0;34m=\u001b[0m \u001b[0mresult\u001b[0m\u001b[0;34m.\u001b[0m\u001b[0mfun\u001b[0m\u001b[0;34m\u001b[0m\u001b[0;34m\u001b[0m\u001b[0m\n\u001b[1;32m    650\u001b[0m             \u001b[0mprint\u001b[0m\u001b[0;34m(\u001b[0m\u001b[0;34mf\"Initial Estimator{label}:\"\u001b[0m\u001b[0;34m,\u001b[0m \u001b[0mthetahat1_used\u001b[0m\u001b[0;34m)\u001b[0m\u001b[0;34m\u001b[0m\u001b[0;34m\u001b[0m\u001b[0m\n",
            "\u001b[0;31mUnboundLocalError\u001b[0m: cannot access local variable 'result' where it is not associated with a value"
          ]
        }
      ],
      "source": [
        "# Define parameter space\n",
        "LB = [-2, -2, -2, -2, 0] # parameter space lower bound\n",
        "UB = [2, 2, 0, 0, 0.85]  # parameter space upper bound\n",
        "\n",
        "# Calculate LR\n",
        "S_eq = idc.calculate_LR(data, gmodel, ex.calculate_Ftheta_entrygame, LB, UB, linear_constraint, seed=123, split=\"crossfit\")"
      ]
    },
    {
      "cell_type": "markdown",
      "metadata": {
        "id": "xPyPKFWky2Zo"
      },
      "source": [
        "We reject the null hypothesis if $S>1/\\alpha$."
      ]
    },
    {
      "cell_type": "markdown",
      "metadata": {
        "id": "AzJ5loaU_652"
      },
      "source": [
        "Similarly, we can test the linear inequality constraint."
      ]
    },
    {
      "cell_type": "code",
      "execution_count": null,
      "metadata": {
        "id": "YOfIZr2Z_-HW",
        "collapsed": true
      },
      "outputs": [],
      "source": [
        "# Calculate LR\n",
        "S_ineq = idc.calculate_LR(data, gmodel, ex.calculate_Ftheta_entrygame, LB, UB, linear_onesided_constraint, seed=123, split=\"crossfit\")\n",
        "print(S)"
      ]
    },
    {
      "cell_type": "markdown",
      "metadata": {
        "id": "ukDXDz4DDvwg"
      },
      "source": [
        "# Testing a nonlinear hypothesis\n",
        "\n",
        "Testing a nonlinear hypothesis can be done similarly. You simply pass the nonlinear constraint as an argument to the same function.\n"
      ]
    },
    {
      "cell_type": "code",
      "execution_count": null,
      "metadata": {
        "id": "RUeGfR1PHuxm"
      },
      "outputs": [],
      "source": [
        "# Calculate LR\n",
        "S = idc.calculate_LR(data, gmodel, ex.calculate_Ftheta_entrygame, LB, UB, nonlinear_constraint, seed=123, split=\"crossfit\")\n",
        "print(S)"
      ]
    }
  ],
  "metadata": {
    "colab": {
      "provenance": [],
      "include_colab_link": true
    },
    "kernelspec": {
      "display_name": "Python 3",
      "name": "python3"
    },
    "language_info": {
      "name": "python"
    }
  },
  "nbformat": 4,
  "nbformat_minor": 0
}