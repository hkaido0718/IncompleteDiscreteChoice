{
  "cells": [
    {
      "cell_type": "markdown",
      "metadata": {
        "id": "view-in-github",
        "colab_type": "text"
      },
      "source": [
        "<a href=\"https://colab.research.google.com/github/hkaido0718/IncompleteDiscreteChoice/blob/main/Estimation.ipynb\" target=\"_parent\"><img src=\"https://colab.research.google.com/assets/colab-badge.svg\" alt=\"Open In Colab\"/></a>"
      ]
    },
    {
      "cell_type": "markdown",
      "metadata": {
        "id": "Tb3pydeIf2G8"
      },
      "source": [
        "# Estimation\n",
        "\n",
        "The goal of this note is to estimate the identified set using a method by Chernozhukov, Hong, and Tamer (2007) (CHT below). Their idea is to define a sample criterion function\n",
        "\\begin{align}\n",
        "\\hat Q_n(\\theta)\n",
        "\\end{align}\n",
        "and use its level set as an estimator of $\\Theta_I(P)$.\n",
        "\n",
        "Below, we\n",
        "- generate data\n",
        "- compute conditional choice probabilities (CCPs)\n",
        "- compare CCPs with the sharp lower bound\n",
        "- define a sample criterion function"
      ]
    },
    {
      "cell_type": "markdown",
      "metadata": {
        "id": "Ja68lsaG-0W8"
      },
      "source": [
        "# Data generation\n",
        "\n",
        "Suppose a sample is generated from an entry game.\n",
        "For this, let's simulate data from the following game.\n",
        "\n",
        "|  | $Y_2=0$ | $Y_2=1$ |\n",
        "|----------|----------|----------|\n",
        "| Enter ($Y_1=0$)  | $(0,0)$   | $(0,X_2'\\beta_2+U_2)$   |\n",
        "| Do not enter ($Y_1=1$)  | $(X_1'\\beta_1+U_1, 0)$  | $(X_1'\\beta_1+\\Delta_1+U_1,X_2'\\beta_2+\\Delta_2+U_2)$  |\n",
        "\n",
        "We set\n",
        "- $X=(X_1,X_2)$ where $X_{j},j=1,2$ are independent Bernoulli random variables.\n",
        "- $\\beta_1$ = 0.75\n",
        "- $\\beta_2$ = 0.25\n",
        "- $\\Delta_1$ = -0.5\n",
        "- $\\Delta_2$ = -0.5\n",
        "- $\\rho$ = 0.5 ($U_1$ and $U_2$'s correlation)\n",
        "\n",
        "The following code generates data."
      ]
    },
    {
      "cell_type": "code",
      "execution_count": 12,
      "metadata": {
        "colab": {
          "base_uri": "https://localhost:8080/"
        },
        "id": "sfxkmyqdCtV7",
        "outputId": "30f6391f-3063-49c9-9120-ab3310c039fc"
      },
      "outputs": [
        {
          "output_type": "stream",
          "name": "stdout",
          "text": [
            "[[1. 0.]\n",
            " [1. 1.]\n",
            " [1. 0.]\n",
            " ...\n",
            " [0. 1.]\n",
            " [0. 0.]\n",
            " [0. 1.]]\n"
          ]
        }
      ],
      "source": [
        "import numpy as np\n",
        "\n",
        "def simulate_y(n, beta1, beta2, delta1, delta2, rho, Y_nodes, seed=None):\n",
        "    \"\"\"\n",
        "    Simulate Y based on given parameters and regions, and store X and Y values.\n",
        "\n",
        "    Parameters:\n",
        "    n (int): Number of simulations\n",
        "    rho (float): Correlation coefficient between U1 and U2\n",
        "    beta1 (float): Coefficient for U1\n",
        "    beta2 (float): Coefficient for U2\n",
        "    delta1 (float): Threshold adjustment for region01\n",
        "    delta2 (float): Threshold adjustment for region10\n",
        "    Y_nodes (list of tuples): Possible values for Y\n",
        "    seed (int, optional): Seed for the random number generator\n",
        "\n",
        "    Returns:\n",
        "    tuple: Two numpy arrays, X_vals and Y, both of shape (n, 2)\n",
        "    \"\"\"\n",
        "    if seed is not None:\n",
        "        np.random.seed(seed)\n",
        "\n",
        "    # Covariance matrix for the bivariate normal distribution\n",
        "    cov = [[1, rho], [rho, 1]]\n",
        "\n",
        "    # Storage for the results\n",
        "    Y = np.zeros((n, 2))\n",
        "    X_vals = np.zeros((n, 2))\n",
        "\n",
        "    # Simulation\n",
        "    for i in range(n):\n",
        "        # Generate U from a bivariate normal distribution\n",
        "        U = np.random.multivariate_normal([0, 0], cov)\n",
        "\n",
        "        # Generate X from independent Bernoulli distributions\n",
        "        X = np.random.binomial(1, 0.5, 2)\n",
        "        #X = np.random.standard_normal(2)\n",
        "        X_vals[i] = X\n",
        "\n",
        "        # Calculate the threshold values for regions\n",
        "        threshold1_00 = -X[0] * beta1\n",
        "        threshold2_00 = -X[1] * beta2\n",
        "        threshold1_01 = -X[0] * beta1 - delta1\n",
        "        threshold2_10 = -X[1] * beta2 - delta2\n",
        "\n",
        "        # Determine the region and assign Y\n",
        "        if U[0] <= threshold1_00 and U[1] <= threshold2_00:\n",
        "            Y[i] = Y_nodes[0]\n",
        "        elif U[0] <= threshold1_01 and U[1] >= threshold2_00 and not (U[0] >= threshold1_00 and U[1] <= threshold2_10):\n",
        "            Y[i] = Y_nodes[1]\n",
        "        elif U[0] >= threshold1_00 and U[1] <= threshold2_10 and not (U[0] <= threshold1_01 and U[1] >= threshold2_00):\n",
        "            Y[i] = Y_nodes[2]\n",
        "        elif U[0] >= threshold1_01 and U[1] >= threshold2_10:\n",
        "            Y[i] = Y_nodes[3]\n",
        "        elif (U[0] <= threshold1_01 and U[1] >= threshold2_00) and (U[0] >= threshold1_00 and U[1] <= threshold2_10):\n",
        "            Y[i] = Y_nodes[np.random.choice([1, 2])]\n",
        "\n",
        "    return X_vals, Y\n",
        "\n",
        "# Example usage\n",
        "n = 1000\n",
        "beta1 = 0.75\n",
        "beta2 = 0.25\n",
        "delta1 = -0.5\n",
        "delta2 = -0.5\n",
        "rho = 0.5\n",
        "theta_true = [beta1, beta2, delta1, delta2, rho]\n",
        "Y_nodes = [(0, 0), (0, 1), (1, 0), (1, 1)]\n",
        "seed = 123\n",
        "\n",
        "# Simulate the values\n",
        "X, Y = simulate_y(n, rho, beta1, beta2, delta1, delta2, Y_nodes,seed=seed)\n",
        "print(Y)"
      ]
    },
    {
      "cell_type": "markdown",
      "metadata": {
        "id": "7yhdjBqDhJvd"
      },
      "source": [
        "# Computing CCP\n",
        "Now let's compute the sample conditional choice probabilities, which we can use to construct a sample criterion function."
      ]
    },
    {
      "cell_type": "code",
      "execution_count": 1,
      "metadata": {
        "colab": {
          "base_uri": "https://localhost:8080/"
        },
        "id": "L_4pDFqeZl-p",
        "outputId": "512c362c-f187-4e93-c17a-6b8269f46fce"
      },
      "outputs": [
        {
          "output_type": "stream",
          "name": "stdout",
          "text": [
            "Cloning into 'IncompleteDiscreteChoice'...\n",
            "remote: Enumerating objects: 126, done.\u001b[K\n",
            "remote: Counting objects: 100% (126/126), done.\u001b[K\n",
            "remote: Compressing objects: 100% (99/99), done.\u001b[K\n",
            "remote: Total 126 (delta 61), reused 71 (delta 24), pack-reused 0\u001b[K\n",
            "Receiving objects: 100% (126/126), 362.14 KiB | 10.06 MiB/s, done.\n",
            "Resolving deltas: 100% (61/61), done.\n"
          ]
        }
      ],
      "source": [
        "!git clone https://github.com/hkaido0718/IncompleteDiscreteChoice.git\n",
        "import IncompleteDiscreteChoice.idclib as idc"
      ]
    },
    {
      "cell_type": "markdown",
      "source": [
        "The idc library has a function called calculate_ccp. For this, we should pass the data ($Y,X$) and their support."
      ],
      "metadata": {
        "id": "fHvsZ7U9hLne"
      }
    },
    {
      "cell_type": "code",
      "execution_count": 13,
      "metadata": {
        "colab": {
          "base_uri": "https://localhost:8080/"
        },
        "id": "aD4rDHsAhLmd",
        "outputId": "0e677a00-b025-40f9-878e-5f1330ce4dad"
      },
      "outputs": [
        {
          "output_type": "stream",
          "name": "stdout",
          "text": [
            "P(Y|X=(0.0, 1.0)) = {(0, 0): 0.08171206225680934, (0, 1): 0.3852140077821012, (1, 0): 0.26459143968871596, (1, 1): 0.26848249027237353}\n",
            "P(Y|X=(1.0, 1.0)) = {(0, 0): 0.05982905982905983, (0, 1): 0.15384615384615385, (1, 0): 0.33760683760683763, (1, 1): 0.44871794871794873}\n",
            "P(Y|X=(0.0, 0.0)) = {(0, 0): 0.1857707509881423, (0, 1): 0.2924901185770751, (1, 0): 0.391304347826087, (1, 1): 0.13043478260869565}\n",
            "P(Y|X=(1.0, 0.0)) = {(0, 0): 0.10546875, (0, 1): 0.15625, (1, 0): 0.53515625, (1, 1): 0.203125}\n",
            "[(0.0, 0.0), (0.0, 1.0), (1.0, 0.0), (1.0, 1.0)]\n",
            "[0.253 0.257 0.256 0.234]\n",
            "[[0.18577075 0.29249012 0.39130435 0.13043478]\n",
            " [0.08171206 0.38521401 0.26459144 0.26848249]\n",
            " [0.10546875 0.15625    0.53515625 0.203125  ]\n",
            " [0.05982906 0.15384615 0.33760684 0.44871795]]\n"
          ]
        }
      ],
      "source": [
        "conditional_probabilities,ccp_array, Px, X_supp = idc.calculate_ccp(Y,X, Y_nodes)\n",
        "\n",
        "# Print the conditional probabilities for the specified X support\n",
        "for x in list(conditional_probabilities.keys())[:5]:\n",
        "    print(f\"P(Y|X={x}) = {conditional_probabilities[x]}\")\n",
        "\n",
        "# Support of X and X's marginal distribution over it\n",
        "print(X_supp)\n",
        "print(Px)\n",
        "\n",
        "# This is the CCP matrix (sorted according to X_supp)\n",
        "print(ccp_array)"
      ]
    },
    {
      "cell_type": "markdown",
      "metadata": {
        "id": "AUktkjH3zXmC"
      },
      "source": [
        "From the CCP, we can compute the conditional probability of all events $P(A|X_i),A\\subseteq\\mathcal Y$ for each $X_i$."
      ]
    },
    {
      "cell_type": "code",
      "execution_count": 14,
      "metadata": {
        "colab": {
          "base_uri": "https://localhost:8080/"
        },
        "collapsed": true,
        "id": "aDTNoutXkhWW",
        "outputId": "938537e0-5d8d-428b-b982-a4e40cd3993a"
      },
      "outputs": [
        {
          "output_type": "stream",
          "name": "stdout",
          "text": [
            "[0.         0.18577075 0.29249012 0.39130435 0.13043478 0.47826087\n",
            " 0.5770751  0.31620553 0.68379447 0.4229249  0.52173913 0.86956522\n",
            " 0.60869565 0.70750988 0.81422925 1.        ]\n",
            "[[0.         0.18577075 0.29249012 0.39130435 0.13043478 0.47826087\n",
            "  0.5770751  0.31620553 0.68379447 0.4229249  0.52173913 0.86956522\n",
            "  0.60869565 0.70750988 0.81422925 1.        ]\n",
            " [0.         0.08171206 0.38521401 0.26459144 0.26848249 0.46692607\n",
            "  0.3463035  0.35019455 0.64980545 0.6536965  0.53307393 0.73151751\n",
            "  0.73540856 0.61478599 0.91828794 1.        ]\n",
            " [0.         0.10546875 0.15625    0.53515625 0.203125   0.26171875\n",
            "  0.640625   0.30859375 0.69140625 0.359375   0.73828125 0.796875\n",
            "  0.46484375 0.84375    0.89453125 1.        ]\n",
            " [0.         0.05982906 0.15384615 0.33760684 0.44871795 0.21367521\n",
            "  0.3974359  0.50854701 0.49145299 0.6025641  0.78632479 0.55128205\n",
            "  0.66239316 0.84615385 0.94017094 1.        ]]\n"
          ]
        }
      ],
      "source": [
        "_, temp = idc.calculate_subset_probabilities(ccp_array[0,:], Y_nodes)\n",
        "print(temp)\n",
        "J = len(temp) # This is the number of all events\n",
        "\n",
        "Nx = len(ccp_array) # number of unique X values (n for continous X)\n",
        "p_events = np.zeros((Nx,J))\n",
        "for i in range(Nx):\n",
        "  _, p_events[i,:] = idc.calculate_subset_probabilities(ccp_array[i,:], Y_nodes)\n",
        "\n",
        "# Printing p(A|x) as an Nx-by-J array\n",
        "print(p_events)"
      ]
    },
    {
      "cell_type": "markdown",
      "metadata": {
        "id": "K0ftK4DVZiZW"
      },
      "source": [
        "# Compute sharp lower bound $\\nu_\\theta(A|x)$\n",
        "Now, let's compare $P(A|X_i)$ to the sharp lower bound calculated at some value $\\theta$. For the moment, we use the following value as $\\theta$ (you can change it to something else.)\n",
        "- $\\beta_1$ = 0.5\n",
        "- $\\beta_2$ = 0.5\n",
        "- $\\Delta_1$ = -0.25\n",
        "- $\\Delta_2$ = -0.5\n",
        "- $\\rho$ = 0.5\n"
      ]
    },
    {
      "cell_type": "markdown",
      "metadata": {
        "id": "4DYC7rSxcF14"
      },
      "source": [
        "As before let's build a model as a graph."
      ]
    },
    {
      "cell_type": "code",
      "execution_count": 15,
      "metadata": {
        "id": "CNlRSA4kb1SO"
      },
      "outputs": [],
      "source": [
        "# Define the model\n",
        "Y_nodes = [(0,0), (0,1), (1,0), (1,1)]\n",
        "U_nodes = ['a', 'b', 'c', 'd', 'e']\n",
        "edges = [\n",
        "    ('a', (0,0)),\n",
        "    ('b', (0,1)),\n",
        "    ('c', (1,0)),\n",
        "    ('d', (1,1)),\n",
        "    ('e', (0,1)),\n",
        "    ('e', (1,0))\n",
        "]\n",
        "gmodel = idc.BipartiteGraph(Y_nodes, U_nodes, edges)"
      ]
    },
    {
      "cell_type": "markdown",
      "metadata": {
        "id": "HGI0KEdscVAe"
      },
      "source": [
        "The next step is to calculate the probability distribution $F_\\theta(\\cdot|X_i)$ over the $U$-nodes."
      ]
    },
    {
      "cell_type": "code",
      "execution_count": 16,
      "metadata": {
        "colab": {
          "base_uri": "https://localhost:8080/"
        },
        "id": "T_I9N4PTcZhy",
        "outputId": "2480757c-f864-4e54-c4f4-a9f30577f1e3"
      },
      "outputs": [
        {
          "output_type": "stream",
          "name": "stdout",
          "text": [
            "[[0.33333333 0.19694361 0.25122377 0.19660084 0.02189845]\n",
            " [0.22687778 0.32529761 0.145632   0.28115794 0.02103467]\n",
            " [0.22687778 0.10152507 0.40061245 0.25237404 0.01861066]\n",
            " [0.16331952 0.18369399 0.25212337 0.37986427 0.02099885]]\n"
          ]
        }
      ],
      "source": [
        "import IncompleteDiscreteChoice.examples as idcex\n",
        "\n",
        "theta_temp = [0.5,0.5,-0.25,-0.5,0.5]\n",
        "Nu = len(U_nodes)\n",
        "Ftheta = np.zeros((Nx,Nu))\n",
        "for i in range(Nx):\n",
        "  Ftheta[i,:] = idcex.calculate_Ftheta_entrygame(X_supp[i],theta_temp)\n",
        "\n",
        "# Print Ftheta as Nx-by-Nu array\n",
        "print(Ftheta)"
      ]
    },
    {
      "cell_type": "markdown",
      "metadata": {
        "id": "Oli2qywycqbj"
      },
      "source": [
        "Now we are ready to compute the sharp lower bound of CCPs at $\\theta$."
      ]
    },
    {
      "cell_type": "code",
      "execution_count": 17,
      "metadata": {
        "colab": {
          "base_uri": "https://localhost:8080/"
        },
        "id": "SPFL4Wmucv0G",
        "outputId": "b987f6d2-cac9-4057-d4a7-5642f992a9e5"
      },
      "outputs": [
        {
          "output_type": "stream",
          "name": "stdout",
          "text": [
            "[[0.         0.33333333 0.19694361 0.25122377 0.19660084 0.53027694\n",
            "  0.5845571  0.52993417 0.47006583 0.39354444 0.44782461 0.80339916\n",
            "  0.72687778 0.78115794 0.66666667 1.        ]\n",
            " [0.         0.22687778 0.32529761 0.145632   0.28115794 0.55217539\n",
            "  0.37250978 0.50803572 0.49196428 0.60645556 0.42678994 0.71884206\n",
            "  0.83333333 0.65366772 0.77312222 1.        ]\n",
            " [0.         0.22687778 0.10152507 0.40061245 0.25237404 0.32840285\n",
            "  0.62749022 0.47925182 0.52074818 0.35389911 0.65298649 0.74762596\n",
            "  0.58077689 0.87986427 0.77312222 1.        ]\n",
            " [0.         0.16331952 0.18369399 0.25212337 0.37986427 0.34701351\n",
            "  0.4154429  0.54318379 0.45681621 0.56355826 0.63198764 0.62013573\n",
            "  0.72687778 0.79530716 0.83668048 1.        ]]\n"
          ]
        }
      ],
      "source": [
        "nutheta = np.zeros((Nx,J))\n",
        "for i in range(Nx):\n",
        "    _,nutheta[i,:] = gmodel.calculate_sharp_lower_bound(Ftheta[i])\n",
        "\n",
        "# Print lower bound as Nx-by-J array (compare it to p(A|x) above)\n",
        "print(nutheta)\n"
      ]
    },
    {
      "cell_type": "markdown",
      "metadata": {
        "id": "p4j6M8yDrDP2"
      },
      "source": [
        "Now let's compare the CCP and lower bounds and compute $\\hat Q_n(\\theta)=\\frac{1}{n}\\sum_{j}\\sum_{x\\in\\mathcal X}w_x(\\nu_\\theta(A_j|x)-\\hat P_n(A_j|x))_+$,\n",
        "where $w_x=\\sum_{i}1\\{X_i=x\\}/n$."
      ]
    },
    {
      "cell_type": "code",
      "execution_count": 19,
      "metadata": {
        "colab": {
          "base_uri": "https://localhost:8080/"
        },
        "id": "aQlwG4M2tImH",
        "outputId": "606468ec-6131-46a8-939b-372b7c91035e"
      },
      "outputs": [
        {
          "output_type": "stream",
          "name": "stdout",
          "text": [
            "0.0005659607861643218\n"
          ]
        }
      ],
      "source": [
        "difference = nutheta - p_events\n",
        "diff_pos = np.maximum(difference, 0)\n",
        "w = np.repeat(Px,J).reshape(Nx,J)\n",
        "n = len(Y)\n",
        "Qhat = np.sum(w*diff_pos)/n\n",
        "print(Qhat)"
      ]
    },
    {
      "cell_type": "markdown",
      "metadata": {
        "id": "kXAGIe0LkAQC"
      },
      "source": [
        "# Summary\n",
        "\n",
        "Let's summarize what we did:\n",
        "- We computed $\\hat p(A|x)$\n",
        "- We computed $\\nu_\\theta(A|x)$ at $\\theta$\n",
        "- We computed $\\hat Q_n(\\theta)$\n",
        "\n",
        "The IDC library has a wrapper function `idc.calculate_Qhat` to execute the steps avove.\n",
        "\n",
        "It takes the following objects as inputs\n",
        "- theta: (parameter)\n",
        "- [Y,X]: (data)\n",
        "- gmodel: (class BipartiteGraph)\n",
        "  - Y-nodes\n",
        "  - U-nodes\n",
        "  - Edges\n",
        "- calculate_Ftheta (function)\n",
        "\n",
        "You can simply execute the following code.\n",
        "\n"
      ]
    },
    {
      "cell_type": "code",
      "execution_count": 20,
      "metadata": {
        "colab": {
          "base_uri": "https://localhost:8080/"
        },
        "id": "hmRr59lJnrYV",
        "outputId": "5f621501-58f1-4581-c4a9-541381150f05"
      },
      "outputs": [
        {
          "output_type": "stream",
          "name": "stdout",
          "text": [
            "0.0005659607861643218\n"
          ]
        }
      ],
      "source": [
        "# If needed uncomment the line below\n",
        "#!git clone https://github.com/hkaido0718/IncompleteDiscreteChoice.git\n",
        "import IncompleteDiscreteChoice.idclib as idc\n",
        "import IncompleteDiscreteChoice.examples as ex\n",
        "import numpy as np\n",
        "import gdown\n",
        "\n",
        "# Download entrygame sample data (same data as above)\n",
        "url = \"https://drive.google.com/uc?id=1cRhMJ8bRhdzy9_agmQ_LkqzlsKRKcthX\"\n",
        "output = \"data_entrygame.npz\"\n",
        "gdown.download(url, output, quiet=True)\n",
        "Data = np.load(output, allow_pickle=True)\n",
        "\n",
        "# Define the nodes\n",
        "Y_nodes = [(0,0), (0,1), (1,0), (1,1)]\n",
        "U_nodes = ['a', 'b', 'c', 'd', 'e']\n",
        "\n",
        "# Create edges\n",
        "edges = [\n",
        "    ('a', (0,0)),\n",
        "    ('b', (0,1)),\n",
        "    ('c', (1,0)),\n",
        "    ('d', (1,1)),\n",
        "    ('e', (0,1)),\n",
        "    ('e', (1,0))\n",
        "]\n",
        "\n",
        "gmodel = idc.BipartiteGraph(Y_nodes, U_nodes, edges)\n",
        "theta = [0.5, 0.5, -0.25, -0.5, 0.5]\n",
        "Y = Data['Y']\n",
        "X = Data['X']\n",
        "data = [Y, X]\n",
        "Qhat = idc.calculate_Qhat(theta, data, gmodel, ex.calculate_Ftheta_entrygame)\n",
        "print(Qhat)"
      ]
    },
    {
      "cell_type": "markdown",
      "metadata": {
        "id": "kLwnDkLHRTsc"
      },
      "source": [
        "You can use `calculate_Qhat` to construct a consistent estimator or construct other test statistics. As an exercise, let's find a minimizer (a point in a consistent set estimator) of this objective function."
      ]
    },
    {
      "cell_type": "code",
      "execution_count": 21,
      "metadata": {
        "colab": {
          "base_uri": "https://localhost:8080/"
        },
        "id": "NyAsFqsZRX1z",
        "outputId": "62766bc9-2696-470a-b10c-0b0f79e3823e"
      },
      "outputs": [
        {
          "output_type": "stream",
          "name": "stdout",
          "text": [
            "Current Qhat: 0.0004321632503820229\n",
            "Convergence: 0.02709682348372088\n",
            "Current Qhat: 0.0004321632503820229\n",
            "Convergence: 0.027244440680553515\n",
            "Current Qhat: 0.0003383090173296285\n",
            "Convergence: 0.032961712214973224\n",
            "Current Qhat: 0.0003383090173296285\n",
            "Convergence: 0.03500507570530425\n",
            "Current Qhat: 0.00028095292274334555\n",
            "Convergence: 0.040913810961579325\n",
            "Current Qhat: 0.00028095292274334555\n",
            "Convergence: 0.04543216217722351\n",
            "Current Qhat: 0.00023903145000006137\n",
            "Convergence: 0.047996256116025794\n",
            "Current Qhat: 0.00023903145000006137\n",
            "Convergence: 0.04677461460597434\n",
            "Current Qhat: 0.00023492776885991222\n",
            "Convergence: 0.05083520256813079\n",
            "Current Qhat: 0.00020047453485340434\n",
            "Convergence: 0.04586266533676949\n",
            "Current Qhat: 0.00020047453485340434\n",
            "Convergence: 0.05045857224173814\n",
            "Current Qhat: 0.00019818618294031198\n",
            "Convergence: 0.05127347661135591\n",
            "Current Qhat: 0.00019818618294031198\n",
            "Convergence: 0.05633900946126542\n",
            "Current Qhat: 0.0001882474357569769\n",
            "Convergence: 0.05862128262301504\n",
            "Current Qhat: 0.0001882474357569769\n",
            "Convergence: 0.05831329113367187\n",
            "Current Qhat: 0.0001882474357569769\n",
            "Convergence: 0.0687884457154704\n",
            "Current Qhat: 0.0001882474357569769\n",
            "Convergence: 0.07375052590605093\n",
            "Current Qhat: 0.00017594616888240295\n",
            "Convergence: 0.07765429529049196\n",
            "Current Qhat: 0.00017594616888240295\n",
            "Convergence: 0.07919432776490977\n",
            "Current Qhat: 0.00017594616888240295\n",
            "Convergence: 0.07839239714547655\n",
            "Current Qhat: 0.00017594616888240295\n",
            "Convergence: 0.09325444296902556\n",
            "Current Qhat: 0.00017594616888240295\n",
            "Convergence: 0.09993837185701529\n",
            "Current Qhat: 0.00017586400240126383\n",
            "Convergence: 0.113008353761253\n",
            "Current Qhat: 0.00017487864582124173\n",
            "Convergence: 0.12692996858502387\n",
            "Current Qhat: 0.00017487864582124173\n",
            "Convergence: 0.13073549642489624\n",
            "Current Qhat: 0.00017487864582124173\n",
            "Convergence: 0.14893748637098633\n",
            "Current Qhat: 0.00017487864582124173\n",
            "Convergence: 0.1498813934763993\n",
            "Current Qhat: 0.0001746707332293747\n",
            "Convergence: 0.16336862394118248\n",
            "Current Qhat: 0.0001746707332293747\n",
            "Convergence: 0.21080193513925274\n",
            "Current Qhat: 0.0001746707332293747\n",
            "Convergence: 0.225055801909288\n",
            "Current Qhat: 0.00017363025766154323\n",
            "Convergence: 0.2388298392051111\n",
            "Current Qhat: 0.00017363025766154323\n",
            "Convergence: 0.23858156561031332\n",
            "Current Qhat: 0.00017363025766154323\n",
            "Convergence: 0.2506278177409096\n",
            "Current Qhat: 0.00017313570237431123\n",
            "Convergence: 0.271915646601386\n",
            "Current Qhat: 0.00017313570237431123\n",
            "Convergence: 0.4611796790398909\n",
            "Current Qhat: 0.00017313570237431123\n",
            "Convergence: 0.534965849710636\n",
            "Current Qhat: 0.0001730667246127101\n",
            "Convergence: 0.5293308786611317\n",
            "Current Qhat: 0.0001730667246127101\n",
            "Convergence: 0.6202966724245824\n",
            "Current Qhat: 0.0001730667246127101\n",
            "Convergence: 0.8398819619248903\n",
            "Current Qhat: 0.0001730667246127101\n",
            "Convergence: 0.84711942535372\n",
            "Current Qhat: 0.00017295019588456698\n",
            "Convergence: 1.8558625886864388\n",
            "Optimal theta: [ 0.68936674  0.72434786 -0.0366677  -0.60048419  0.        ]\n",
            "Minimum Qhat: 0.00017280103622743158\n"
          ]
        }
      ],
      "source": [
        "from scipy.optimize import differential_evolution\n",
        "\n",
        "# Assuming the calculate_Qhat function is already defined as provided earlier\n",
        "\n",
        "# Define the function to minimize\n",
        "def objective_function(theta):\n",
        "    return idc.calculate_Qhat(theta, data, gmodel, ex.calculate_Ftheta_entrygame)\n",
        "\n",
        "# Define the bounds\n",
        "LB = [-2, -2, -2, -2, 0]\n",
        "UB = [2, 2, 0, 0, 0.85]\n",
        "bounds = [(low, high) for low, high in zip(LB, UB)]\n",
        "\n",
        "# Callback function to print intermediate results\n",
        "def callback(xk, convergence):\n",
        "    #print(f\"Current theta: {xk}\")\n",
        "    print(f\"Current Qhat: {objective_function(xk)}\")\n",
        "    print(f\"Convergence: {convergence}\")\n",
        "\n",
        "# Set a seed for replicability\n",
        "np.random.seed(123)\n",
        "\n",
        "# Perform the optimization\n",
        "result = differential_evolution(objective_function, bounds, callback=callback,seed=123)\n",
        "\n",
        "# Get the optimal theta and the minimum Qhat value\n",
        "optimal_theta = result.x\n",
        "min_Qhat = result.fun\n",
        "\n",
        "print(\"Optimal theta:\", optimal_theta)\n",
        "print(\"Minimum Qhat:\", min_Qhat)\n"
      ]
    }
  ],
  "metadata": {
    "colab": {
      "toc_visible": true,
      "provenance": [],
      "authorship_tag": "ABX9TyP/sAq0EcJC4W6uNVRO2iQ9",
      "include_colab_link": true
    },
    "kernelspec": {
      "display_name": "Python 3",
      "name": "python3"
    },
    "language_info": {
      "name": "python"
    }
  },
  "nbformat": 4,
  "nbformat_minor": 0
}