{
  "nbformat": 4,
  "nbformat_minor": 0,
  "metadata": {
    "colab": {
      "provenance": [],
      "authorship_tag": "ABX9TyPDjkmJLhmC7c38Ozt1EC7a",
      "include_colab_link": true
    },
    "kernelspec": {
      "name": "python3",
      "display_name": "Python 3"
    },
    "language_info": {
      "name": "python"
    }
  },
  "cells": [
    {
      "cell_type": "markdown",
      "metadata": {
        "id": "view-in-github",
        "colab_type": "text"
      },
      "source": [
        "<a href=\"https://colab.research.google.com/github/hkaido0718/IncompleteDiscreteChoice/blob/main/CompleteModel.ipynb\" target=\"_parent\"><img src=\"https://colab.research.google.com/assets/colab-badge.svg\" alt=\"Open In Colab\"/></a>"
      ]
    },
    {
      "cell_type": "markdown",
      "source": [
        "# Discrete Choice models\n",
        "\n",
        "We start with a standard discrete choice model. Key components are\n",
        "- $Y$: outcome\n",
        "- $X$: covariates\n",
        "- $U$: latent variables\n",
        "- $U|X\\sim F_\\theta(\\cdot|x)$: conditional distribution of $U$\n",
        "\n"
      ],
      "metadata": {
        "id": "j4AYePjXEgYH"
      }
    },
    {
      "cell_type": "markdown",
      "source": [
        "# Ex: Binary choice\n",
        "\n",
        "For example, consider the following binary choice model\n",
        "\\begin{align}\n",
        "Y=1\\{X'\\theta+U\\ge0\\},\n",
        "\\end{align}\n",
        "and assume $U|X\\sim N(0,1)$. This is a _complete model_. That is, for each value of $(X,U)$, the model assigns a unique value of $Y$. Any model that can be written as $Y=g(U|X;\\theta)$ for some function $g$ is complete.\n",
        "\n",
        "For later use, define the following regions:\n",
        "\\begin{align}\n",
        "a&=\\{u:u\\ge -X'\\theta\\}\\\\\n",
        "b&=\\{u:u< -X'\\theta\\}.\n",
        "\\end{align}\n",
        "They are plotted below."
      ],
      "metadata": {
        "id": "xdX_zFSTsOnC"
      }
    },
    {
      "cell_type": "code",
      "source": [
        "import matplotlib.pyplot as plt\n",
        "\n",
        "# Set the scale for the figure\n",
        "scale = 0.6\n",
        "fig, ax = plt.subplots(figsize=(6 * scale, 10 * scale))\n",
        "\n",
        "# Draw the y-axis\n",
        "ax.arrow(0, 0, 0, 8, head_width=0.1, head_length=0.3, fc='black', ec='black')\n",
        "ax.text(-0.5, 8, r'$U$', va='center')\n",
        "\n",
        "# Draw the dashed lines\n",
        "ax.plot([0, 6], [4, 4], 'k--')\n",
        "\n",
        "# Add text labels\n",
        "ax.text(3, 2, r'$b: (Y=0)$', ha='center')\n",
        "ax.text(3, 6, r'$a: (Y=1)$', ha='center')\n",
        "\n",
        "# Add the specific text annotations next to the dashed lines\n",
        "ax.text(-0.1, 4, r'$-X\\theta$', va='center', ha='right')\n",
        "\n",
        "# Adjust the plot limits and remove the x-axis\n",
        "ax.set_xlim(-1, 6)\n",
        "ax.set_ylim(0, 9)\n",
        "ax.axis('off')\n",
        "\n",
        "plt.show()"
      ],
      "metadata": {
        "colab": {
          "base_uri": "https://localhost:8080/",
          "height": 499
        },
        "id": "7An2c8WcMVS1",
        "outputId": "c23ac639-3f7d-4f44-eec0-4d43f58ddccf"
      },
      "execution_count": null,
      "outputs": [
        {
          "output_type": "display_data",
          "data": {
            "text/plain": [
              "<Figure size 360x600 with 1 Axes>"
            ],
            "image/png": "[encoded data removed]"
          },
          "metadata": {}
        }
      ]
    },
    {
      "cell_type": "markdown",
      "source": [
        "We can summarize the model's prediction by\n",
        "\\begin{align}\n",
        "g(U|X;\\theta)=\\begin{cases}\n",
        "1 & U\\in a\\\\\n",
        "0 & U\\in b.\n",
        "\\end{cases}\n",
        "\\end{align}\n"
      ],
      "metadata": {
        "id": "rgrbTq5nPc8d"
      }
    }
  ]
}